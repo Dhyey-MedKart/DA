{
 "cells": [
  {
   "cell_type": "code",
   "execution_count": 1,
   "metadata": {},
   "outputs": [],
   "source": [
    "import pandas as pd"
   ]
  },
  {
   "cell_type": "markdown",
   "metadata": {},
   "source": [
    "# Connection"
   ]
  },
  {
   "cell_type": "code",
   "execution_count": 2,
   "metadata": {},
   "outputs": [
    {
     "name": "stdout",
     "output_type": "stream",
     "text": [
      "Connected to: ('PostgreSQL 16.3 on x86_64-pc-linux-gnu, compiled by gcc (GCC) 7.3.1 20180712 (Red Hat 7.3.1-12), 64-bit',)\n"
     ]
    }
   ],
   "source": [
    "from connector import connection\n",
    "\n",
    "conn = connection()\n",
    "\n",
    "cur = conn.cursor()\n",
    "\n",
    "cur.execute(\"SELECT version();\")\n",
    "\n",
    "db_version = cur.fetchone()\n",
    "print(\"Connected to:\", db_version)\n",
    "\n"
   ]
  },
  {
   "cell_type": "markdown",
   "metadata": {},
   "source": [
    "# Fetching Tables"
   ]
  },
  {
   "cell_type": "code",
   "execution_count": 3,
   "metadata": {},
   "outputs": [],
   "source": [
    "cur.execute(\"select store_id,total_amount,created_at from sales_invoices;\")\n",
    "sc = cur.fetchall()\n",
    "\n",
    "sales_invoices = pd.DataFrame(sc, columns=['store_id','sc','created_at'])"
   ]
  },
  {
   "cell_type": "code",
   "execution_count": 4,
   "metadata": {},
   "outputs": [],
   "source": [
    "cur.execute(\"select store_id,total_amount,created_at from sales_return;\")\n",
    "sr = cur.fetchall()\n",
    "\n",
    "sales_return = pd.DataFrame(sr, columns=['store_id','sr','created_at'])"
   ]
  },
  {
   "cell_type": "code",
   "execution_count": 5,
   "metadata": {},
   "outputs": [],
   "source": [
    "cur.execute(\"select id,name,store_type from stores;\")\n",
    "store = cur.fetchall()\n",
    "\n",
    "stores = pd.DataFrame(store, columns=['store_id','name','type'])"
   ]
  },
  {
   "cell_type": "markdown",
   "metadata": {},
   "source": [
    "# Processing"
   ]
  },
  {
   "cell_type": "code",
   "execution_count": 6,
   "metadata": {},
   "outputs": [],
   "source": [
    "import datetime\n",
    "sales_invoices['created_at'] = pd.to_datetime(sales_invoices['created_at'], format='%Y-%m-%d')\n",
    "sales_return['created_at'] = pd.to_datetime(sales_invoices['created_at'], format='%Y-%m-%d')"
   ]
  },
  {
   "cell_type": "code",
   "execution_count": 7,
   "metadata": {},
   "outputs": [],
   "source": [
    "sales_invoices['year'] = sales_invoices['created_at'].dt.year\n",
    "sales_invoices['month'] = sales_invoices['created_at'].dt.month\n",
    "\n",
    "\n",
    "sales_return['year'] = sales_return['created_at'].dt.year\n",
    "sales_return['month'] = sales_return['created_at'].dt.month"
   ]
  },
  {
   "cell_type": "code",
   "execution_count": 8,
   "metadata": {},
   "outputs": [],
   "source": [
    "sales_invoices = sales_invoices.groupby(['store_id','created_at','month','year'])['sc'].sum().reset_index()\n",
    "\n",
    "sales_return = sales_return.groupby(['store_id','created_at','month','year'])['sr'].sum().reset_index()"
   ]
  },
  {
   "cell_type": "markdown",
   "metadata": {},
   "source": [
    "# Merging"
   ]
  },
  {
   "cell_type": "code",
   "execution_count": 9,
   "metadata": {},
   "outputs": [],
   "source": [
    "temp = sales_invoices.merge(sales_return, how = 'left', left_on=['store_id','created_at','month','year'], right_on = ['store_id','created_at','month','year'])"
   ]
  },
  {
   "cell_type": "code",
   "execution_count": 10,
   "metadata": {},
   "outputs": [],
   "source": [
    "temp = temp.merge(stores, how = 'left', left_on=['store_id'], right_on = ['store_id'])"
   ]
  },
  {
   "cell_type": "code",
   "execution_count": 11,
   "metadata": {},
   "outputs": [
    {
     "data": {
      "text/html": [
       "<div>\n",
       "<style scoped>\n",
       "    .dataframe tbody tr th:only-of-type {\n",
       "        vertical-align: middle;\n",
       "    }\n",
       "\n",
       "    .dataframe tbody tr th {\n",
       "        vertical-align: top;\n",
       "    }\n",
       "\n",
       "    .dataframe thead th {\n",
       "        text-align: right;\n",
       "    }\n",
       "</style>\n",
       "<table border=\"1\" class=\"dataframe\">\n",
       "  <thead>\n",
       "    <tr style=\"text-align: right;\">\n",
       "      <th></th>\n",
       "      <th>store_id</th>\n",
       "      <th>created_at</th>\n",
       "      <th>month</th>\n",
       "      <th>year</th>\n",
       "      <th>sc</th>\n",
       "      <th>sr</th>\n",
       "      <th>name</th>\n",
       "      <th>type</th>\n",
       "    </tr>\n",
       "  </thead>\n",
       "  <tbody>\n",
       "    <tr>\n",
       "      <th>0</th>\n",
       "      <td>23</td>\n",
       "      <td>2024-07-18 12:10:34</td>\n",
       "      <td>7</td>\n",
       "      <td>2024</td>\n",
       "      <td>195.40</td>\n",
       "      <td>NaN</td>\n",
       "      <td>MEDKART A PARIMAL</td>\n",
       "      <td>COCO</td>\n",
       "    </tr>\n",
       "    <tr>\n",
       "      <th>1</th>\n",
       "      <td>23</td>\n",
       "      <td>2024-08-17 10:21:23</td>\n",
       "      <td>8</td>\n",
       "      <td>2024</td>\n",
       "      <td>2282.00</td>\n",
       "      <td>NaN</td>\n",
       "      <td>MEDKART A PARIMAL</td>\n",
       "      <td>COCO</td>\n",
       "    </tr>\n",
       "    <tr>\n",
       "      <th>2</th>\n",
       "      <td>23</td>\n",
       "      <td>2024-08-24 12:02:09</td>\n",
       "      <td>8</td>\n",
       "      <td>2024</td>\n",
       "      <td>4836.60</td>\n",
       "      <td>NaN</td>\n",
       "      <td>MEDKART A PARIMAL</td>\n",
       "      <td>COCO</td>\n",
       "    </tr>\n",
       "    <tr>\n",
       "      <th>3</th>\n",
       "      <td>23</td>\n",
       "      <td>2024-08-29 17:09:28</td>\n",
       "      <td>8</td>\n",
       "      <td>2024</td>\n",
       "      <td>134.40</td>\n",
       "      <td>NaN</td>\n",
       "      <td>MEDKART A PARIMAL</td>\n",
       "      <td>COCO</td>\n",
       "    </tr>\n",
       "    <tr>\n",
       "      <th>4</th>\n",
       "      <td>23</td>\n",
       "      <td>2024-08-29 17:30:23</td>\n",
       "      <td>8</td>\n",
       "      <td>2024</td>\n",
       "      <td>1080.00</td>\n",
       "      <td>NaN</td>\n",
       "      <td>MEDKART A PARIMAL</td>\n",
       "      <td>COCO</td>\n",
       "    </tr>\n",
       "    <tr>\n",
       "      <th>...</th>\n",
       "      <td>...</td>\n",
       "      <td>...</td>\n",
       "      <td>...</td>\n",
       "      <td>...</td>\n",
       "      <td>...</td>\n",
       "      <td>...</td>\n",
       "      <td>...</td>\n",
       "      <td>...</td>\n",
       "    </tr>\n",
       "    <tr>\n",
       "      <th>1410</th>\n",
       "      <td>141</td>\n",
       "      <td>2024-06-21 18:12:50</td>\n",
       "      <td>6</td>\n",
       "      <td>2024</td>\n",
       "      <td>225.10</td>\n",
       "      <td>NaN</td>\n",
       "      <td>NILKANTH PHARMA</td>\n",
       "      <td>FOFO</td>\n",
       "    </tr>\n",
       "    <tr>\n",
       "      <th>1411</th>\n",
       "      <td>141</td>\n",
       "      <td>2024-06-23 08:51:07</td>\n",
       "      <td>6</td>\n",
       "      <td>2024</td>\n",
       "      <td>1744.06</td>\n",
       "      <td>NaN</td>\n",
       "      <td>NILKANTH PHARMA</td>\n",
       "      <td>FOFO</td>\n",
       "    </tr>\n",
       "    <tr>\n",
       "      <th>1412</th>\n",
       "      <td>141</td>\n",
       "      <td>2024-06-24 15:19:15</td>\n",
       "      <td>6</td>\n",
       "      <td>2024</td>\n",
       "      <td>885.00</td>\n",
       "      <td>NaN</td>\n",
       "      <td>NILKANTH PHARMA</td>\n",
       "      <td>FOFO</td>\n",
       "    </tr>\n",
       "    <tr>\n",
       "      <th>1413</th>\n",
       "      <td>141</td>\n",
       "      <td>2024-06-24 16:20:55</td>\n",
       "      <td>6</td>\n",
       "      <td>2024</td>\n",
       "      <td>163.60</td>\n",
       "      <td>NaN</td>\n",
       "      <td>NILKANTH PHARMA</td>\n",
       "      <td>FOFO</td>\n",
       "    </tr>\n",
       "    <tr>\n",
       "      <th>1414</th>\n",
       "      <td>141</td>\n",
       "      <td>2024-06-28 17:24:22</td>\n",
       "      <td>6</td>\n",
       "      <td>2024</td>\n",
       "      <td>30.07</td>\n",
       "      <td>NaN</td>\n",
       "      <td>NILKANTH PHARMA</td>\n",
       "      <td>FOFO</td>\n",
       "    </tr>\n",
       "  </tbody>\n",
       "</table>\n",
       "<p>1415 rows × 8 columns</p>\n",
       "</div>"
      ],
      "text/plain": [
       "      store_id          created_at  month  year       sc  sr  \\\n",
       "0           23 2024-07-18 12:10:34      7  2024   195.40 NaN   \n",
       "1           23 2024-08-17 10:21:23      8  2024  2282.00 NaN   \n",
       "2           23 2024-08-24 12:02:09      8  2024  4836.60 NaN   \n",
       "3           23 2024-08-29 17:09:28      8  2024   134.40 NaN   \n",
       "4           23 2024-08-29 17:30:23      8  2024  1080.00 NaN   \n",
       "...        ...                 ...    ...   ...      ...  ..   \n",
       "1410       141 2024-06-21 18:12:50      6  2024   225.10 NaN   \n",
       "1411       141 2024-06-23 08:51:07      6  2024  1744.06 NaN   \n",
       "1412       141 2024-06-24 15:19:15      6  2024   885.00 NaN   \n",
       "1413       141 2024-06-24 16:20:55      6  2024   163.60 NaN   \n",
       "1414       141 2024-06-28 17:24:22      6  2024    30.07 NaN   \n",
       "\n",
       "                   name  type  \n",
       "0     MEDKART A PARIMAL  COCO  \n",
       "1     MEDKART A PARIMAL  COCO  \n",
       "2     MEDKART A PARIMAL  COCO  \n",
       "3     MEDKART A PARIMAL  COCO  \n",
       "4     MEDKART A PARIMAL  COCO  \n",
       "...                 ...   ...  \n",
       "1410    NILKANTH PHARMA  FOFO  \n",
       "1411    NILKANTH PHARMA  FOFO  \n",
       "1412    NILKANTH PHARMA  FOFO  \n",
       "1413    NILKANTH PHARMA  FOFO  \n",
       "1414    NILKANTH PHARMA  FOFO  \n",
       "\n",
       "[1415 rows x 8 columns]"
      ]
     },
     "execution_count": 11,
     "metadata": {},
     "output_type": "execute_result"
    }
   ],
   "source": [
    "temp"
   ]
  },
  {
   "cell_type": "markdown",
   "metadata": {},
   "source": [
    "# COCO report"
   ]
  },
  {
   "cell_type": "code",
   "execution_count": 12,
   "metadata": {},
   "outputs": [],
   "source": [
    "temp1 = temp[(temp['type'] == 'COCO')]"
   ]
  },
  {
   "cell_type": "markdown",
   "metadata": {},
   "source": [
    "### Assign Month and year"
   ]
  },
  {
   "cell_type": "code",
   "execution_count": 13,
   "metadata": {},
   "outputs": [],
   "source": [
    "today = datetime.datetime.now()\n",
    "m = today.month-1 # For now we'll do - 1 as no data for feb 2025\n",
    "y = today.year\n",
    "temp1 = temp1[(temp1['year'] == y) & (temp1['month'] == m)].reset_index(drop=True)"
   ]
  },
  {
   "cell_type": "markdown",
   "metadata": {},
   "source": [
    "### Melting and unstacking"
   ]
  },
  {
   "cell_type": "code",
   "execution_count": 14,
   "metadata": {},
   "outputs": [],
   "source": [
    "melted_df = pd.melt(temp1, \n",
    "                    id_vars=['store_id','name', 'created_at'], \n",
    "                    value_vars=['sc', 'sr'],\n",
    "                    var_name='category', \n",
    "                    value_name='Amount')"
   ]
  },
  {
   "cell_type": "code",
   "execution_count": 15,
   "metadata": {},
   "outputs": [],
   "source": [
    "temp_melted = melted_df.sort_values(['created_at'])"
   ]
  },
  {
   "cell_type": "code",
   "execution_count": 16,
   "metadata": {},
   "outputs": [
    {
     "data": {
      "text/html": [
       "<div>\n",
       "<style scoped>\n",
       "    .dataframe tbody tr th:only-of-type {\n",
       "        vertical-align: middle;\n",
       "    }\n",
       "\n",
       "    .dataframe tbody tr th {\n",
       "        vertical-align: top;\n",
       "    }\n",
       "\n",
       "    .dataframe thead th {\n",
       "        text-align: right;\n",
       "    }\n",
       "</style>\n",
       "<table border=\"1\" class=\"dataframe\">\n",
       "  <thead>\n",
       "    <tr style=\"text-align: right;\">\n",
       "      <th></th>\n",
       "      <th>store_id</th>\n",
       "      <th>name</th>\n",
       "      <th>created_at</th>\n",
       "      <th>category</th>\n",
       "      <th>Amount</th>\n",
       "    </tr>\n",
       "  </thead>\n",
       "  <tbody>\n",
       "    <tr>\n",
       "      <th>0</th>\n",
       "      <td>36</td>\n",
       "      <td>MEDKART B AKOTA</td>\n",
       "      <td>2025-01-06 16:36:36</td>\n",
       "      <td>sc</td>\n",
       "      <td>888.80</td>\n",
       "    </tr>\n",
       "    <tr>\n",
       "      <th>35</th>\n",
       "      <td>36</td>\n",
       "      <td>MEDKART B AKOTA</td>\n",
       "      <td>2025-01-06 16:36:36</td>\n",
       "      <td>sr</td>\n",
       "      <td>NaN</td>\n",
       "    </tr>\n",
       "    <tr>\n",
       "      <th>1</th>\n",
       "      <td>36</td>\n",
       "      <td>MEDKART B AKOTA</td>\n",
       "      <td>2025-01-08 16:04:12</td>\n",
       "      <td>sc</td>\n",
       "      <td>70.00</td>\n",
       "    </tr>\n",
       "    <tr>\n",
       "      <th>36</th>\n",
       "      <td>36</td>\n",
       "      <td>MEDKART B AKOTA</td>\n",
       "      <td>2025-01-08 16:04:12</td>\n",
       "      <td>sr</td>\n",
       "      <td>NaN</td>\n",
       "    </tr>\n",
       "    <tr>\n",
       "      <th>2</th>\n",
       "      <td>36</td>\n",
       "      <td>MEDKART B AKOTA</td>\n",
       "      <td>2025-01-10 17:56:17</td>\n",
       "      <td>sc</td>\n",
       "      <td>580.00</td>\n",
       "    </tr>\n",
       "    <tr>\n",
       "      <th>...</th>\n",
       "      <td>...</td>\n",
       "      <td>...</td>\n",
       "      <td>...</td>\n",
       "      <td>...</td>\n",
       "      <td>...</td>\n",
       "    </tr>\n",
       "    <tr>\n",
       "      <th>32</th>\n",
       "      <td>36</td>\n",
       "      <td>MEDKART B AKOTA</td>\n",
       "      <td>2025-01-31 13:08:57</td>\n",
       "      <td>sc</td>\n",
       "      <td>27.78</td>\n",
       "    </tr>\n",
       "    <tr>\n",
       "      <th>68</th>\n",
       "      <td>36</td>\n",
       "      <td>MEDKART B AKOTA</td>\n",
       "      <td>2025-01-31 14:47:12</td>\n",
       "      <td>sr</td>\n",
       "      <td>NaN</td>\n",
       "    </tr>\n",
       "    <tr>\n",
       "      <th>33</th>\n",
       "      <td>36</td>\n",
       "      <td>MEDKART B AKOTA</td>\n",
       "      <td>2025-01-31 14:47:12</td>\n",
       "      <td>sc</td>\n",
       "      <td>27.00</td>\n",
       "    </tr>\n",
       "    <tr>\n",
       "      <th>34</th>\n",
       "      <td>36</td>\n",
       "      <td>MEDKART B AKOTA</td>\n",
       "      <td>2025-01-31 16:18:21</td>\n",
       "      <td>sc</td>\n",
       "      <td>27.00</td>\n",
       "    </tr>\n",
       "    <tr>\n",
       "      <th>69</th>\n",
       "      <td>36</td>\n",
       "      <td>MEDKART B AKOTA</td>\n",
       "      <td>2025-01-31 16:18:21</td>\n",
       "      <td>sr</td>\n",
       "      <td>NaN</td>\n",
       "    </tr>\n",
       "  </tbody>\n",
       "</table>\n",
       "<p>70 rows × 5 columns</p>\n",
       "</div>"
      ],
      "text/plain": [
       "    store_id             name          created_at category  Amount\n",
       "0         36  MEDKART B AKOTA 2025-01-06 16:36:36       sc  888.80\n",
       "35        36  MEDKART B AKOTA 2025-01-06 16:36:36       sr     NaN\n",
       "1         36  MEDKART B AKOTA 2025-01-08 16:04:12       sc   70.00\n",
       "36        36  MEDKART B AKOTA 2025-01-08 16:04:12       sr     NaN\n",
       "2         36  MEDKART B AKOTA 2025-01-10 17:56:17       sc  580.00\n",
       "..       ...              ...                 ...      ...     ...\n",
       "32        36  MEDKART B AKOTA 2025-01-31 13:08:57       sc   27.78\n",
       "68        36  MEDKART B AKOTA 2025-01-31 14:47:12       sr     NaN\n",
       "33        36  MEDKART B AKOTA 2025-01-31 14:47:12       sc   27.00\n",
       "34        36  MEDKART B AKOTA 2025-01-31 16:18:21       sc   27.00\n",
       "69        36  MEDKART B AKOTA 2025-01-31 16:18:21       sr     NaN\n",
       "\n",
       "[70 rows x 5 columns]"
      ]
     },
     "execution_count": 16,
     "metadata": {},
     "output_type": "execute_result"
    }
   ],
   "source": [
    "temp_melted"
   ]
  },
  {
   "cell_type": "code",
   "execution_count": 17,
   "metadata": {},
   "outputs": [],
   "source": [
    "temp_melted_1 = temp_melted.groupby(\n",
    "        ['store_id', 'name','created_at','category']\n",
    "    ).agg({'Amount': 'sum'}).unstack([2,3]).reset_index()\n",
    "temp_melted_1 = temp_melted_1.sort_index(axis=1, level=1)"
   ]
  },
  {
   "cell_type": "code",
   "execution_count": 18,
   "metadata": {},
   "outputs": [
    {
     "data": {
      "text/html": [
       "<div>\n",
       "<style scoped>\n",
       "    .dataframe tbody tr th:only-of-type {\n",
       "        vertical-align: middle;\n",
       "    }\n",
       "\n",
       "    .dataframe tbody tr th {\n",
       "        vertical-align: top;\n",
       "    }\n",
       "\n",
       "    .dataframe thead tr th {\n",
       "        text-align: left;\n",
       "    }\n",
       "</style>\n",
       "<table border=\"1\" class=\"dataframe\">\n",
       "  <thead>\n",
       "    <tr>\n",
       "      <th></th>\n",
       "      <th colspan=\"19\" halign=\"left\">Amount</th>\n",
       "      <th>name</th>\n",
       "      <th>store_id</th>\n",
       "    </tr>\n",
       "    <tr>\n",
       "      <th>created_at</th>\n",
       "      <th colspan=\"2\" halign=\"left\">2025-01-06 16:36:36</th>\n",
       "      <th colspan=\"2\" halign=\"left\">2025-01-08 16:04:12</th>\n",
       "      <th colspan=\"2\" halign=\"left\">2025-01-10 17:56:17</th>\n",
       "      <th colspan=\"2\" halign=\"left\">2025-01-13 10:39:18</th>\n",
       "      <th colspan=\"2\" halign=\"left\">2025-01-16 12:50:29</th>\n",
       "      <th>...</th>\n",
       "      <th colspan=\"2\" halign=\"left\">2025-01-30 17:26:33</th>\n",
       "      <th colspan=\"2\" halign=\"left\">2025-01-31 13:08:57</th>\n",
       "      <th colspan=\"2\" halign=\"left\">2025-01-31 14:47:12</th>\n",
       "      <th colspan=\"2\" halign=\"left\">2025-01-31 16:18:21</th>\n",
       "      <th>NaT</th>\n",
       "      <th>NaT</th>\n",
       "    </tr>\n",
       "    <tr>\n",
       "      <th>category</th>\n",
       "      <th>sc</th>\n",
       "      <th>sr</th>\n",
       "      <th>sc</th>\n",
       "      <th>sr</th>\n",
       "      <th>sc</th>\n",
       "      <th>sr</th>\n",
       "      <th>sc</th>\n",
       "      <th>sr</th>\n",
       "      <th>sc</th>\n",
       "      <th>sr</th>\n",
       "      <th>...</th>\n",
       "      <th>sc</th>\n",
       "      <th>sr</th>\n",
       "      <th>sc</th>\n",
       "      <th>sr</th>\n",
       "      <th>sc</th>\n",
       "      <th>sr</th>\n",
       "      <th>sc</th>\n",
       "      <th>sr</th>\n",
       "      <th></th>\n",
       "      <th></th>\n",
       "    </tr>\n",
       "  </thead>\n",
       "  <tbody>\n",
       "    <tr>\n",
       "      <th>0</th>\n",
       "      <td>888.8</td>\n",
       "      <td>0.0</td>\n",
       "      <td>70.0</td>\n",
       "      <td>0.0</td>\n",
       "      <td>580.0</td>\n",
       "      <td>0.0</td>\n",
       "      <td>1175.0</td>\n",
       "      <td>0.0</td>\n",
       "      <td>102.0</td>\n",
       "      <td>0.0</td>\n",
       "      <td>...</td>\n",
       "      <td>67.0</td>\n",
       "      <td>0.0</td>\n",
       "      <td>27.78</td>\n",
       "      <td>0.0</td>\n",
       "      <td>27.0</td>\n",
       "      <td>0.0</td>\n",
       "      <td>27.0</td>\n",
       "      <td>0.0</td>\n",
       "      <td>MEDKART B AKOTA</td>\n",
       "      <td>36</td>\n",
       "    </tr>\n",
       "  </tbody>\n",
       "</table>\n",
       "<p>1 rows × 72 columns</p>\n",
       "</div>"
      ],
      "text/plain": [
       "                        Amount                                \\\n",
       "created_at 2025-01-06 16:36:36      2025-01-08 16:04:12        \n",
       "category                    sc   sr                  sc   sr   \n",
       "0                        888.8  0.0                70.0  0.0   \n",
       "\n",
       "                                                              \\\n",
       "created_at 2025-01-10 17:56:17      2025-01-13 10:39:18        \n",
       "category                    sc   sr                  sc   sr   \n",
       "0                        580.0  0.0              1175.0  0.0   \n",
       "\n",
       "                                     ...                           \\\n",
       "created_at 2025-01-16 12:50:29       ... 2025-01-30 17:26:33        \n",
       "category                    sc   sr  ...                  sc   sr   \n",
       "0                        102.0  0.0  ...                67.0  0.0   \n",
       "\n",
       "                                                              \\\n",
       "created_at 2025-01-31 13:08:57      2025-01-31 14:47:12        \n",
       "category                    sc   sr                  sc   sr   \n",
       "0                        27.78  0.0                27.0  0.0   \n",
       "\n",
       "                                                name store_id  \n",
       "created_at 2025-01-31 16:18:21                   NaT      NaT  \n",
       "category                    sc   sr                            \n",
       "0                         27.0  0.0  MEDKART B AKOTA       36  \n",
       "\n",
       "[1 rows x 72 columns]"
      ]
     },
     "execution_count": 18,
     "metadata": {},
     "output_type": "execute_result"
    }
   ],
   "source": [
    "temp_melted_1"
   ]
  },
  {
   "cell_type": "code",
   "execution_count": 19,
   "metadata": {},
   "outputs": [],
   "source": [
    "temp_melted_1.to_csv(f'salesdetail_{today.day}_{today.month}_{today.year}.csv')"
   ]
  },
  {
   "cell_type": "markdown",
   "metadata": {},
   "source": [
    "# FOFO REPORT"
   ]
  },
  {
   "cell_type": "code",
   "execution_count": 20,
   "metadata": {},
   "outputs": [],
   "source": [
    "temp1 = temp[(temp['type'] == 'FOFO')]"
   ]
  },
  {
   "cell_type": "code",
   "execution_count": 21,
   "metadata": {},
   "outputs": [],
   "source": [
    "temp1 = temp1.fillna(0)"
   ]
  },
  {
   "cell_type": "markdown",
   "metadata": {},
   "source": [
    "### Assign current month and year"
   ]
  },
  {
   "cell_type": "code",
   "execution_count": 22,
   "metadata": {},
   "outputs": [],
   "source": [
    "\n",
    "today = datetime.datetime.now()\n",
    "m = today.month\n",
    "y = today.year\n",
    "temp1 = temp1[(temp1['year'] == y) & (temp1['month'] == m-1)].reset_index(drop=True)"
   ]
  },
  {
   "cell_type": "code",
   "execution_count": 23,
   "metadata": {},
   "outputs": [],
   "source": [
    "\n",
    "temp1['BaseValue'] = temp1['sc'] - temp1['sr']"
   ]
  },
  {
   "cell_type": "code",
   "execution_count": 24,
   "metadata": {},
   "outputs": [
    {
     "data": {
      "text/html": [
       "<div>\n",
       "<style scoped>\n",
       "    .dataframe tbody tr th:only-of-type {\n",
       "        vertical-align: middle;\n",
       "    }\n",
       "\n",
       "    .dataframe tbody tr th {\n",
       "        vertical-align: top;\n",
       "    }\n",
       "\n",
       "    .dataframe thead th {\n",
       "        text-align: right;\n",
       "    }\n",
       "</style>\n",
       "<table border=\"1\" class=\"dataframe\">\n",
       "  <thead>\n",
       "    <tr style=\"text-align: right;\">\n",
       "      <th></th>\n",
       "      <th>store_id</th>\n",
       "      <th>created_at</th>\n",
       "      <th>month</th>\n",
       "      <th>year</th>\n",
       "      <th>sc</th>\n",
       "      <th>sr</th>\n",
       "      <th>name</th>\n",
       "      <th>type</th>\n",
       "      <th>BaseValue</th>\n",
       "    </tr>\n",
       "  </thead>\n",
       "  <tbody>\n",
       "    <tr>\n",
       "      <th>0</th>\n",
       "      <td>52</td>\n",
       "      <td>2025-01-06 15:36:07</td>\n",
       "      <td>1</td>\n",
       "      <td>2025</td>\n",
       "      <td>320.0</td>\n",
       "      <td>0.0</td>\n",
       "      <td>MAHALAXMI ENTERPRISE NIKOL</td>\n",
       "      <td>FOFO</td>\n",
       "      <td>320.0</td>\n",
       "    </tr>\n",
       "  </tbody>\n",
       "</table>\n",
       "</div>"
      ],
      "text/plain": [
       "   store_id          created_at  month  year     sc   sr  \\\n",
       "0        52 2025-01-06 15:36:07      1  2025  320.0  0.0   \n",
       "\n",
       "                         name  type  BaseValue  \n",
       "0  MAHALAXMI ENTERPRISE NIKOL  FOFO      320.0  "
      ]
     },
     "execution_count": 24,
     "metadata": {},
     "output_type": "execute_result"
    }
   ],
   "source": [
    "temp1"
   ]
  },
  {
   "cell_type": "code",
   "execution_count": 25,
   "metadata": {},
   "outputs": [],
   "source": [
    "final_temp = temp1.groupby(['name'])['BaseValue'].sum().reset_index()\n",
    "\n",
    "final_temp['RL'] = final_temp['BaseValue'] * 0.02"
   ]
  },
  {
   "cell_type": "code",
   "execution_count": 26,
   "metadata": {},
   "outputs": [
    {
     "data": {
      "text/html": [
       "<div>\n",
       "<style scoped>\n",
       "    .dataframe tbody tr th:only-of-type {\n",
       "        vertical-align: middle;\n",
       "    }\n",
       "\n",
       "    .dataframe tbody tr th {\n",
       "        vertical-align: top;\n",
       "    }\n",
       "\n",
       "    .dataframe thead th {\n",
       "        text-align: right;\n",
       "    }\n",
       "</style>\n",
       "<table border=\"1\" class=\"dataframe\">\n",
       "  <thead>\n",
       "    <tr style=\"text-align: right;\">\n",
       "      <th></th>\n",
       "      <th>name</th>\n",
       "      <th>BaseValue</th>\n",
       "      <th>RL</th>\n",
       "    </tr>\n",
       "  </thead>\n",
       "  <tbody>\n",
       "    <tr>\n",
       "      <th>0</th>\n",
       "      <td>MAHALAXMI ENTERPRISE NIKOL</td>\n",
       "      <td>320.0</td>\n",
       "      <td>6.4</td>\n",
       "    </tr>\n",
       "  </tbody>\n",
       "</table>\n",
       "</div>"
      ],
      "text/plain": [
       "                         name  BaseValue   RL\n",
       "0  MAHALAXMI ENTERPRISE NIKOL      320.0  6.4"
      ]
     },
     "execution_count": 26,
     "metadata": {},
     "output_type": "execute_result"
    }
   ],
   "source": [
    "final_temp"
   ]
  },
  {
   "cell_type": "code",
   "execution_count": 27,
   "metadata": {},
   "outputs": [],
   "source": [
    "final_temp.to_csv(f'rl_{today.strftime('%B')}-{today.day}.csv')"
   ]
  },
  {
   "cell_type": "code",
   "execution_count": null,
   "metadata": {},
   "outputs": [],
   "source": []
  }
 ],
 "metadata": {
  "kernelspec": {
   "display_name": "Python 3",
   "language": "python",
   "name": "python3"
  },
  "language_info": {
   "codemirror_mode": {
    "name": "ipython",
    "version": 3
   },
   "file_extension": ".py",
   "mimetype": "text/x-python",
   "name": "python",
   "nbconvert_exporter": "python",
   "pygments_lexer": "ipython3",
   "version": "3.13.1"
  }
 },
 "nbformat": 4,
 "nbformat_minor": 2
}
