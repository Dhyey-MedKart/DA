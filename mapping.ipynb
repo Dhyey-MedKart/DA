{
  "cells": [
    {
      "cell_type": "code",
      "execution_count": 12,
      "metadata": {
        "id": "SqN532-S-fuu"
      },
      "outputs": [],
      "source": [
        "import pandas as pd\n",
        "import polars as pl"
      ]
    },
    {
      "cell_type": "code",
      "execution_count": 44,
      "metadata": {
        "id": "_BU1yXpw-7jC"
      },
      "outputs": [],
      "source": [
        "cn = pd.read_csv(\"cn_data.csv\")\n",
        "pn = pd.read_csv(\"pn_data.csv\")"
      ]
    },
    {
      "cell_type": "code",
      "execution_count": 45,
      "metadata": {},
      "outputs": [],
      "source": [
        "prod = pl.read_csv(r\"C:\\WorkSpace\\Python\\DA_basics\\Data\\products.csv\", infer_schema_length=10000,truncate_ragged_lines=True)"
      ]
    },
    {
      "cell_type": "code",
      "execution_count": 46,
      "metadata": {
        "id": "dd7AkZzE_Epe"
      },
      "outputs": [],
      "source": [
        "cn = cn.sort_values([\"key\",\"vendor_cn_date\"]).reset_index(drop=True)\n",
        "pn = pn.sort_values([\"key\",\"date\"]).reset_index(drop=True)"
      ]
    },
    {
      "cell_type": "code",
      "execution_count": 47,
      "metadata": {
        "colab": {
          "base_uri": "https://localhost:8080/"
        },
        "id": "4I5hnbEQHkxO",
        "outputId": "b3afd34e-cedc-4123-ca55-9b6f306c8de7"
      },
      "outputs": [
        {
          "data": {
            "text/plain": [
              "4761"
            ]
          },
          "execution_count": 47,
          "metadata": {},
          "output_type": "execute_result"
        }
      ],
      "source": [
        "len(cn[\"key\"].unique())"
      ]
    },
    {
      "cell_type": "code",
      "execution_count": 48,
      "metadata": {
        "colab": {
          "base_uri": "https://localhost:8080/"
        },
        "id": "gQIA6eTMHm-b",
        "outputId": "d178cfb3-c3d8-4a89-fcd7-a054c2e2b69c"
      },
      "outputs": [
        {
          "data": {
            "text/plain": [
              "4673"
            ]
          },
          "execution_count": 48,
          "metadata": {},
          "output_type": "execute_result"
        }
      ],
      "source": [
        "len(pn[\"key\"].unique())"
      ]
    },
    {
      "cell_type": "code",
      "execution_count": 49,
      "metadata": {
        "id": "NxNTvJvVAfmw"
      },
      "outputs": [],
      "source": [
        "uniq_key = set()\n",
        "uniq_key.update(cn[\"key\"].unique())\n",
        "uniq_key.update(pn[\"key\"].unique())\n",
        "uniq_key = sorted(uniq_key)"
      ]
    },
    {
      "cell_type": "code",
      "execution_count": 50,
      "metadata": {
        "colab": {
          "base_uri": "https://localhost:8080/"
        },
        "id": "OI_1V55t_dQg",
        "outputId": "444ad3e8-22b6-4b6b-d22d-3c013f009d37"
      },
      "outputs": [
        {
          "data": {
            "text/plain": [
              "6572"
            ]
          },
          "execution_count": 50,
          "metadata": {},
          "output_type": "execute_result"
        }
      ],
      "source": [
        "len(uniq_key)"
      ]
    },
    {
      "cell_type": "code",
      "execution_count": 52,
      "metadata": {
        "id": "9ie5uULPALlD"
      },
      "outputs": [],
      "source": [
        "columns = [\"vendor_id\", \"ws_code\", \"batch_number\", \"product_name\", \"cn_number\", \"cn_date\", \"cn_ref_date\", \"cn_qty\",\n",
        "           \"pn_number\",\"pn_date\", \"pn_qty\", \"finalqty\", \"Note\", \"key\"]\n",
        "temp_df = pd.DataFrame(columns=columns)\n",
        "Note = [\"CN pending\", \"Excess CN received\", \"Exact Match\"]\n",
        "\n",
        "i, j = 0, 0\n",
        "\n",
        "for key in uniq_key:\n",
        "  count = 0\n",
        "  vendor_id, ws_code, batch_num = key.split(\"_\")\n",
        "  while(count != 1):\n",
        "    \n",
        "    if i < len(pn[\"key\"]) and j < len(cn[\"key\"]) and pn[\"key\"][i] == key and cn[\"key\"][j] == key:\n",
        "        k = pn[\"quantity\"][i] - cn[\"billed_quantity\"][j]\n",
        "        if k > 0:\n",
        "          temp_df.loc[len(temp_df)] = [vendor_id,ws_code,batch_num,prod.filter(pl.col(\"ws_code\") == int(ws_code))[0,\"product_name\"], cn[\"debit_note_number\"][j],cn[\"vendor_cn_date\"][j],\"\",cn[\"billed_quantity\"][j],pn[\"pick_note_number\"][i],pn[\"date\"][i], pn[\"quantity\"][i],k, Note[0], key]\n",
        "          pn.loc[i, \"quantity\"] = k\n",
        "\n",
        "          j += 1\n",
        "        elif k < 0:\n",
        "          temp_df.loc[len(temp_df)] = [vendor_id,ws_code,batch_num,prod.filter(pl.col(\"ws_code\") == int(ws_code))[0,\"product_name\"], cn[\"debit_note_number\"][j],cn[\"vendor_cn_date\"][j],\"\",cn[\"billed_quantity\"][j],pn[\"pick_note_number\"][i],pn[\"date\"][i], pn[\"quantity\"][i],k * -1, Note[1], key]\n",
        "          cn.loc[j, \"billed_quantity\"] = k*-1\n",
        "\n",
        "          i += 1\n",
        "        else:\n",
        "          temp_df.loc[len(temp_df)] = [vendor_id,ws_code,batch_num,prod.filter(pl.col(\"ws_code\") == int(ws_code))[0,\"product_name\"], cn[\"debit_note_number\"][j],cn[\"vendor_cn_date\"][j],\"\",cn[\"billed_quantity\"][j],pn[\"pick_note_number\"][i],pn[\"date\"][i], pn[\"quantity\"][i],k, Note[2], key]\n",
        "          i += 1\n",
        "          j += 1\n",
        "\n",
        "    elif i < len(pn[\"key\"]) and pn[\"key\"][i] == key:\n",
        "        # CN -> \" \"\" \n",
        "        temp_df.loc[len(temp_df)] = [vendor_id,ws_code,batch_num,prod.filter(pl.col(\"ws_code\") == int(ws_code))[0,\"product_name\"], \" \",\" \",\"\",\" \",pn[\"pick_note_number\"][i],pn[\"date\"][i], pn[\"quantity\"][i],k, Note[0], key]\n",
        "          \n",
        "        i += 1\n",
        "    elif j < len(cn[\"key\"]) and cn[\"key\"][j] == key:\n",
        "        \n",
        "        temp_df.loc[len(temp_df)] = [vendor_id,ws_code,batch_num,prod.filter(pl.col(\"ws_code\") == int(ws_code))[0,\"product_name\"], cn[\"debit_note_number\"][j],cn[\"vendor_cn_date\"][j],\"\",cn[\"billed_quantity\"][j],\"\",\" \", \" \",k, Note[1], key]\n",
        "          \n",
        "        j += 1\n",
        "    else:\n",
        "        count = 1\n"
      ]
    },
    {
      "cell_type": "code",
      "execution_count": 53,
      "metadata": {
        "colab": {
          "base_uri": "https://localhost:8080/",
          "height": 424
        },
        "id": "6Lilho2fBSVn",
        "outputId": "156ac129-92ea-43c8-dd14-45b1f4410c11"
      },
      "outputs": [
        {
          "data": {
            "text/html": [
              "<div>\n",
              "<style scoped>\n",
              "    .dataframe tbody tr th:only-of-type {\n",
              "        vertical-align: middle;\n",
              "    }\n",
              "\n",
              "    .dataframe tbody tr th {\n",
              "        vertical-align: top;\n",
              "    }\n",
              "\n",
              "    .dataframe thead th {\n",
              "        text-align: right;\n",
              "    }\n",
              "</style>\n",
              "<table border=\"1\" class=\"dataframe\">\n",
              "  <thead>\n",
              "    <tr style=\"text-align: right;\">\n",
              "      <th></th>\n",
              "      <th>vendor_id</th>\n",
              "      <th>ws_code</th>\n",
              "      <th>batch_number</th>\n",
              "      <th>product_name</th>\n",
              "      <th>cn_number</th>\n",
              "      <th>cn_date</th>\n",
              "      <th>cn_ref_date</th>\n",
              "      <th>cn_qty</th>\n",
              "      <th>pn_number</th>\n",
              "      <th>pn_date</th>\n",
              "      <th>pn_qty</th>\n",
              "      <th>finalqty</th>\n",
              "      <th>Note</th>\n",
              "      <th>key</th>\n",
              "    </tr>\n",
              "  </thead>\n",
              "  <tbody>\n",
              "    <tr>\n",
              "      <th>0</th>\n",
              "      <td>322</td>\n",
              "      <td>11299</td>\n",
              "      <td>SIF1190A</td>\n",
              "      <td>REPACE 25MG TAB 1X10</td>\n",
              "      <td>DN201006195</td>\n",
              "      <td>2024-11-25</td>\n",
              "      <td></td>\n",
              "      <td>1</td>\n",
              "      <td>PR201008895</td>\n",
              "      <td>23-11-2024</td>\n",
              "      <td>1</td>\n",
              "      <td>0</td>\n",
              "      <td>Exact Match</td>\n",
              "      <td>322_11299_SIF1190A</td>\n",
              "    </tr>\n",
              "    <tr>\n",
              "      <th>1</th>\n",
              "      <td>322</td>\n",
              "      <td>11303</td>\n",
              "      <td>SIF1510A</td>\n",
              "      <td>REPACE H TAB 1X10</td>\n",
              "      <td>DN201006163</td>\n",
              "      <td>2024-11-22</td>\n",
              "      <td></td>\n",
              "      <td>1</td>\n",
              "      <td>PR201008882</td>\n",
              "      <td>20-11-2024</td>\n",
              "      <td>1</td>\n",
              "      <td>0</td>\n",
              "      <td>Exact Match</td>\n",
              "      <td>322_11303_SIF1510A</td>\n",
              "    </tr>\n",
              "    <tr>\n",
              "      <th>2</th>\n",
              "      <td>322</td>\n",
              "      <td>1178</td>\n",
              "      <td>FHA0249</td>\n",
              "      <td>AZTOGOLD 10MG TAB 1X10</td>\n",
              "      <td>DN201006186</td>\n",
              "      <td>2024-11-19</td>\n",
              "      <td></td>\n",
              "      <td>6</td>\n",
              "      <td>PR201008755</td>\n",
              "      <td>16-11-2024</td>\n",
              "      <td>6</td>\n",
              "      <td>0</td>\n",
              "      <td>Exact Match</td>\n",
              "      <td>322_1178_FHA0249</td>\n",
              "    </tr>\n",
              "    <tr>\n",
              "      <th>3</th>\n",
              "      <td>322</td>\n",
              "      <td>13214</td>\n",
              "      <td>I304954</td>\n",
              "      <td>TENGLYN M 1000MG TAB 1X15</td>\n",
              "      <td>DN301006894</td>\n",
              "      <td>2025-01-17</td>\n",
              "      <td></td>\n",
              "      <td>2</td>\n",
              "      <td></td>\n",
              "      <td></td>\n",
              "      <td></td>\n",
              "      <td>0</td>\n",
              "      <td>Excess CN received</td>\n",
              "      <td>322_13214_I304954</td>\n",
              "    </tr>\n",
              "    <tr>\n",
              "      <th>4</th>\n",
              "      <td>322</td>\n",
              "      <td>13460</td>\n",
              "      <td>SIF1920A</td>\n",
              "      <td>TIGATEL 20MG TAB 1X10</td>\n",
              "      <td>DN201006646</td>\n",
              "      <td>2024-12-28</td>\n",
              "      <td></td>\n",
              "      <td>6</td>\n",
              "      <td>PR201009347</td>\n",
              "      <td>28-12-2024</td>\n",
              "      <td>6</td>\n",
              "      <td>0</td>\n",
              "      <td>Exact Match</td>\n",
              "      <td>322_13460_SIF1920A</td>\n",
              "    </tr>\n",
              "    <tr>\n",
              "      <th>...</th>\n",
              "      <td>...</td>\n",
              "      <td>...</td>\n",
              "      <td>...</td>\n",
              "      <td>...</td>\n",
              "      <td>...</td>\n",
              "      <td>...</td>\n",
              "      <td>...</td>\n",
              "      <td>...</td>\n",
              "      <td>...</td>\n",
              "      <td>...</td>\n",
              "      <td>...</td>\n",
              "      <td>...</td>\n",
              "      <td>...</td>\n",
              "      <td>...</td>\n",
              "    </tr>\n",
              "    <tr>\n",
              "      <th>8934</th>\n",
              "      <td>432</td>\n",
              "      <td>21898</td>\n",
              "      <td>B3020</td>\n",
              "      <td>BSC CHARCOAL FACEWASH 100GM</td>\n",
              "      <td>DN201006386</td>\n",
              "      <td>2024-12-04</td>\n",
              "      <td></td>\n",
              "      <td>152</td>\n",
              "      <td>PR201008968</td>\n",
              "      <td>04-12-2024</td>\n",
              "      <td>152</td>\n",
              "      <td>0</td>\n",
              "      <td>Exact Match</td>\n",
              "      <td>432_21898_B3020</td>\n",
              "    </tr>\n",
              "    <tr>\n",
              "      <th>8935</th>\n",
              "      <td>432</td>\n",
              "      <td>21902</td>\n",
              "      <td>BSHFD24148</td>\n",
              "      <td>BSC CHARCOAL FOAM 425GM</td>\n",
              "      <td>DN201006386</td>\n",
              "      <td>2024-12-04</td>\n",
              "      <td></td>\n",
              "      <td>50</td>\n",
              "      <td>PR201008968</td>\n",
              "      <td>04-12-2024</td>\n",
              "      <td>50</td>\n",
              "      <td>0</td>\n",
              "      <td>Exact Match</td>\n",
              "      <td>432_21902_BSHFD24148</td>\n",
              "    </tr>\n",
              "    <tr>\n",
              "      <th>8936</th>\n",
              "      <td>432</td>\n",
              "      <td>21902</td>\n",
              "      <td>BSHFD24149</td>\n",
              "      <td>BSC CHARCOAL FOAM 425GM</td>\n",
              "      <td>DN201006386</td>\n",
              "      <td>2024-12-04</td>\n",
              "      <td></td>\n",
              "      <td>8</td>\n",
              "      <td>PR201008968</td>\n",
              "      <td>04-12-2024</td>\n",
              "      <td>8</td>\n",
              "      <td>0</td>\n",
              "      <td>Exact Match</td>\n",
              "      <td>432_21902_BSHFD24149</td>\n",
              "    </tr>\n",
              "    <tr>\n",
              "      <th>8937</th>\n",
              "      <td>437</td>\n",
              "      <td>23009</td>\n",
              "      <td>VEX0248S</td>\n",
              "      <td>7VIK CHATPATA SYP 100ML</td>\n",
              "      <td>DN201006136</td>\n",
              "      <td>2024-11-19</td>\n",
              "      <td></td>\n",
              "      <td>1</td>\n",
              "      <td>PR201008819</td>\n",
              "      <td>19-11-2024</td>\n",
              "      <td>1</td>\n",
              "      <td>0</td>\n",
              "      <td>Exact Match</td>\n",
              "      <td>437_23009_VEX0248S</td>\n",
              "    </tr>\n",
              "    <tr>\n",
              "      <th>8938</th>\n",
              "      <td>440</td>\n",
              "      <td>1238</td>\n",
              "      <td>L24K0926</td>\n",
              "      <td>BABY DIAPER LARGE (KANGAROO)</td>\n",
              "      <td>DN201006326</td>\n",
              "      <td>2024-11-28</td>\n",
              "      <td></td>\n",
              "      <td>5</td>\n",
              "      <td>PR201008916</td>\n",
              "      <td>26-11-2024</td>\n",
              "      <td>5</td>\n",
              "      <td>0</td>\n",
              "      <td>Exact Match</td>\n",
              "      <td>440_1238_L24K0926</td>\n",
              "    </tr>\n",
              "  </tbody>\n",
              "</table>\n",
              "<p>8939 rows × 14 columns</p>\n",
              "</div>"
            ],
            "text/plain": [
              "     vendor_id ws_code batch_number                  product_name  \\\n",
              "0          322   11299     SIF1190A          REPACE 25MG TAB 1X10   \n",
              "1          322   11303     SIF1510A             REPACE H TAB 1X10   \n",
              "2          322    1178      FHA0249        AZTOGOLD 10MG TAB 1X10   \n",
              "3          322   13214      I304954     TENGLYN M 1000MG TAB 1X15   \n",
              "4          322   13460     SIF1920A         TIGATEL 20MG TAB 1X10   \n",
              "...        ...     ...          ...                           ...   \n",
              "8934       432   21898        B3020   BSC CHARCOAL FACEWASH 100GM   \n",
              "8935       432   21902   BSHFD24148       BSC CHARCOAL FOAM 425GM   \n",
              "8936       432   21902   BSHFD24149       BSC CHARCOAL FOAM 425GM   \n",
              "8937       437   23009     VEX0248S       7VIK CHATPATA SYP 100ML   \n",
              "8938       440    1238     L24K0926  BABY DIAPER LARGE (KANGAROO)   \n",
              "\n",
              "        cn_number     cn_date cn_ref_date cn_qty    pn_number     pn_date  \\\n",
              "0     DN201006195  2024-11-25                  1  PR201008895  23-11-2024   \n",
              "1     DN201006163  2024-11-22                  1  PR201008882  20-11-2024   \n",
              "2     DN201006186  2024-11-19                  6  PR201008755  16-11-2024   \n",
              "3     DN301006894  2025-01-17                  2                            \n",
              "4     DN201006646  2024-12-28                  6  PR201009347  28-12-2024   \n",
              "...           ...         ...         ...    ...          ...         ...   \n",
              "8934  DN201006386  2024-12-04                152  PR201008968  04-12-2024   \n",
              "8935  DN201006386  2024-12-04                 50  PR201008968  04-12-2024   \n",
              "8936  DN201006386  2024-12-04                  8  PR201008968  04-12-2024   \n",
              "8937  DN201006136  2024-11-19                  1  PR201008819  19-11-2024   \n",
              "8938  DN201006326  2024-11-28                  5  PR201008916  26-11-2024   \n",
              "\n",
              "     pn_qty  finalqty                Note                   key  \n",
              "0         1         0         Exact Match    322_11299_SIF1190A  \n",
              "1         1         0         Exact Match    322_11303_SIF1510A  \n",
              "2         6         0         Exact Match      322_1178_FHA0249  \n",
              "3                   0  Excess CN received     322_13214_I304954  \n",
              "4         6         0         Exact Match    322_13460_SIF1920A  \n",
              "...     ...       ...                 ...                   ...  \n",
              "8934    152         0         Exact Match       432_21898_B3020  \n",
              "8935     50         0         Exact Match  432_21902_BSHFD24148  \n",
              "8936      8         0         Exact Match  432_21902_BSHFD24149  \n",
              "8937      1         0         Exact Match    437_23009_VEX0248S  \n",
              "8938      5         0         Exact Match     440_1238_L24K0926  \n",
              "\n",
              "[8939 rows x 14 columns]"
            ]
          },
          "execution_count": 53,
          "metadata": {},
          "output_type": "execute_result"
        }
      ],
      "source": [
        "temp_df"
      ]
    },
    {
      "cell_type": "code",
      "execution_count": null,
      "metadata": {},
      "outputs": [],
      "source": [
        "len(temp_df[\"key\"].unique())"
      ]
    },
    {
      "cell_type": "code",
      "execution_count": 114,
      "metadata": {
        "id": "Ym45rhWhEQR1"
      },
      "outputs": [],
      "source": [
        "temp_df.to_csv(\"output.csv\")"
      ]
    },
    {
      "cell_type": "code",
      "execution_count": null,
      "metadata": {
        "id": "DmQCL0b4RHfS"
      },
      "outputs": [],
      "source": []
    }
  ],
  "metadata": {
    "colab": {
      "provenance": []
    },
    "kernelspec": {
      "display_name": "Python 3",
      "name": "python3"
    },
    "language_info": {
      "codemirror_mode": {
        "name": "ipython",
        "version": 3
      },
      "file_extension": ".py",
      "mimetype": "text/x-python",
      "name": "python",
      "nbconvert_exporter": "python",
      "pygments_lexer": "ipython3",
      "version": "3.13.1"
    }
  },
  "nbformat": 4,
  "nbformat_minor": 0
}
