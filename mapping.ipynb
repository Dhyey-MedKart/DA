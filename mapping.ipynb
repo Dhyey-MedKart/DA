{
 "cells": [
  {
   "cell_type": "markdown",
   "metadata": {},
   "source": [
    "# MAPPING CN WITH PN"
   ]
  },
  {
   "cell_type": "markdown",
   "metadata": {},
   "source": [
    "### IMPORT"
   ]
  },
  {
   "cell_type": "code",
   "execution_count": 139,
   "metadata": {},
   "outputs": [],
   "source": [
    "import pandas as pd\n",
    "import polars as pl"
   ]
  },
  {
   "cell_type": "markdown",
   "metadata": {},
   "source": [
    "### READ"
   ]
  },
  {
   "cell_type": "code",
   "execution_count": 140,
   "metadata": {},
   "outputs": [],
   "source": [
    "cn = pd.read_csv(\"cn_data.csv\")\n",
    "pn = pd.read_csv(\"pn_data.csv\")\n",
    "prod = pl.read_csv(r\"C:\\WorkSpace\\Python\\DA_basics\\Data\\products.csv\", infer_schema_length=10000,truncate_ragged_lines=True)"
   ]
  },
  {
   "cell_type": "code",
   "execution_count": 141,
   "metadata": {},
   "outputs": [],
   "source": [
    "# If CN for Nov & Dec\n",
    "\n",
    "\n",
    "#  li = [\"Nov-2024\",\"Dec-2024\"]\n",
    "# cn = cn[cn[\"month\"].isin(li)]"
   ]
  },
  {
   "cell_type": "markdown",
   "metadata": {},
   "source": [
    "### ASSIGNING UNIQUE KEYS"
   ]
  },
  {
   "cell_type": "code",
   "execution_count": 142,
   "metadata": {},
   "outputs": [],
   "source": [
    "cn = cn.sort_values(by=[\"key\", \"vendor_cn_date\"]).reset_index(drop=True)\n",
    "pn = pn.sort_values(by=[\"key\", \"date\"]).reset_index(drop=True)\n",
    "\n",
    "unique_keys = pd.concat([cn[\"key\"], pn[\"key\"]]).unique() \n",
    "key_mapping = {key: idx + 1 for idx, key in enumerate(sorted(unique_keys))}\n",
    "\n",
    "cn[\"unique_value\"] = cn[\"key\"].map(key_mapping)\n",
    "pn[\"unique_value\"] = pn[\"key\"].map(key_mapping)"
   ]
  },
  {
   "cell_type": "markdown",
   "metadata": {},
   "source": [
    "### GENERATING MAPPED TABLE (temp_df)"
   ]
  },
  {
   "cell_type": "code",
   "execution_count": 145,
   "metadata": {},
   "outputs": [],
   "source": [
    "columns = [\"vendor_id\", \"ws_code\", \"batch_number\", \"product_name\", \"cn_number\", \"cn_date\", \"cn_ref_date\", \"cn_qty\",\n",
    "           \"pn_number\",\"pn_date\", \"pn_qty\", \"finalqty\", \"Note\", \"key\"]\n",
    "temp_df = pd.DataFrame(columns=columns)\n",
    "Note = [\"CN pending\", \"Excess CN received\", \"Exact Match\"]\n",
    "\n",
    "# Fetch data helper function\n",
    "def fetch_data(cn, pn, i, j, k, l):\n",
    "    if j == -1:\n",
    "        cn = pd.DataFrame([[None] * 1], columns=[\"x\"])\n",
    "        pn = pn.iloc[i]\n",
    "        key = pn[\"key\"]\n",
    "        k = pn['quantity']\n",
    "    elif i == -1:\n",
    "        cn = cn.iloc[j]\n",
    "        key = cn['key']\n",
    "        pn = pd.DataFrame([[\" \"] * 1], columns=[\"x\"])\n",
    "        k = cn['billed_quantity']\n",
    "    else:\n",
    "        cn = cn.iloc[j]\n",
    "        pn = pn.iloc[i]\n",
    "        key = pn[\"key\"]\n",
    "    note = Note[l]\n",
    "    vendor_id, ws_code, batch_num = key.split(\"_\")\n",
    "    def safe_get(data, column, default=\" \"):\n",
    "        return data[column] if column in data else default\n",
    "\n",
    "    # Build the data list\n",
    "    data = [\n",
    "        vendor_id,\n",
    "        ws_code,\n",
    "        batch_num,\n",
    "        prod.filter(pl.col(\"ws_code\") == int(ws_code))[0,\"product_name\"],\n",
    "        safe_get(cn, \"debit_note_number\", \" \"),\n",
    "        safe_get(cn, \"vendor_cn_date\", \" \"),\n",
    "        \" \",\n",
    "        safe_get(cn, \"billed_quantity\", \" \"),\n",
    "        safe_get(cn, \"pick_note_number\", \" \"),\n",
    "        safe_get(pn, \"date\", \" \"),\n",
    "        safe_get(pn, \"quantity\", \" \"),\n",
    "        k,\n",
    "        note,\n",
    "        key\n",
    "    ]\n",
    "    return data\n",
    "\n",
    "# Process mapping logic (same as earlier logic with minor modifications)\n",
    "for unique_value in cn[\"unique_value\"].unique():\n",
    "    cn_filter = cn[cn[\"unique_value\"] == unique_value]\n",
    "    cn_filter_key = cn_filter[\"billed_quantity\"].values\n",
    "    i, j = 0, 0\n",
    "    if unique_value in pn[\"unique_value\"].values:\n",
    "        pn_filter = pn[pn[\"unique_value\"] == unique_value]\n",
    "        pn_filter_key = pn_filter[\"quantity\"].values\n",
    "        i, j = 0, 0\n",
    "        while i < len(pn_filter_key) and j < len(cn_filter_key):\n",
    "            k = pn_filter_key[i] - cn_filter_key[j]\n",
    "            if k < 0:\n",
    "                temp_df.loc[len(temp_df)] = fetch_data(cn_filter, pn_filter, i, j, k * -1, 1)\n",
    "                cn_filter_key[j] = k * -1\n",
    "                i += 1\n",
    "            elif k > 0:\n",
    "                temp_df.loc[len(temp_df)] = fetch_data(cn_filter, pn_filter, i, j, k, 0)\n",
    "                pn_filter_key[i] = k\n",
    "                j += 1\n",
    "            else:\n",
    "                temp_df.loc[len(temp_df)] = fetch_data(cn_filter, pn_filter, i, j, k, 2)\n",
    "                i += 1\n",
    "                j += 1\n",
    "\n",
    "        if len(pn_filter_key) > i or len(cn_filter_key) > j:\n",
    "            if len(pn_filter_key) > i:\n",
    "                while(len(pn_filter_key) > i):\n",
    "                    temp_df.loc[len(temp_df)] = fetch_data(cn_filter, pn_filter, i, -1, 1, 0)\n",
    "                    i += 1\n",
    "            else:\n",
    "                while(len(cn_filter_key) > j):\n",
    "                    temp_df.loc[len(temp_df)] = fetch_data(cn_filter, pn_filter, -1, j, 1, 1)\n",
    "                    j += 1\n",
    "\n",
    "    else:\n",
    "        while j < len(cn_filter_key):\n",
    "            temp_df.loc[len(temp_df)] = fetch_data(cn_filter, pn, -1, j, 1, 1)\n",
    "            j += 1\n",
    "\n",
    "for unique_value in pn[\"unique_value\"].unique():\n",
    "    if unique_value not in cn[\"unique_value\"].values:\n",
    "        pn_filter = pn[pn[\"unique_value\"] == unique_value]\n",
    "        pn_filter_key = pn_filter[\"quantity\"].values\n",
    "        i = 0\n",
    "        while i < len(pn_filter_key):\n",
    "            temp_df.loc[len(temp_df)] = fetch_data(None, pn_filter, i, -1, pn_filter_key[i], 0)\n",
    "            i += 1"
   ]
  },
  {
   "cell_type": "markdown",
   "metadata": {},
   "source": [
    "### SAVE"
   ]
  },
  {
   "cell_type": "code",
   "execution_count": 146,
   "metadata": {},
   "outputs": [],
   "source": [
    "temp_df.to_csv('final', index=False)"
   ]
  }
 ],
 "metadata": {
  "kernelspec": {
   "display_name": "Python 3",
   "language": "python",
   "name": "python3"
  },
  "language_info": {
   "codemirror_mode": {
    "name": "ipython",
    "version": 3
   },
   "file_extension": ".py",
   "mimetype": "text/x-python",
   "name": "python",
   "nbconvert_exporter": "python",
   "pygments_lexer": "ipython3",
   "version": "3.13.1"
  }
 },
 "nbformat": 4,
 "nbformat_minor": 2
}
