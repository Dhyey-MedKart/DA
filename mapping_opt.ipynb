{
 "cells": [
  {
   "cell_type": "code",
   "execution_count": 9,
   "metadata": {},
   "outputs": [],
   "source": [
    "import pandas as pd\n",
    "import polars as pl\n"
   ]
  },
  {
   "cell_type": "code",
   "execution_count": 10,
   "metadata": {},
   "outputs": [],
   "source": [
    "cn = pd.read_csv(\"cn_data.csv\")\n",
    "pn = pd.read_csv(\"pn_data.csv\")\n",
    "prod = pl.read_csv(r\"C:\\WorkSpace\\Python\\DA_basics\\Data\\products.csv\", infer_schema_length=10000, truncate_ragged_lines=True)\n"
   ]
  },
  {
   "cell_type": "code",
   "execution_count": 11,
   "metadata": {},
   "outputs": [],
   "source": [
    "cn = cn.sort_values([\"key\", \"vendor_cn_date\"]).reset_index(drop=True)\n",
    "pn = pn.sort_values([\"key\", \"date\"]).reset_index(drop=True)"
   ]
  },
  {
   "cell_type": "code",
   "execution_count": 12,
   "metadata": {},
   "outputs": [],
   "source": [
    "product_mapping = {row[\"ws_code\"]: row[\"product_name\"] for row in prod.to_dicts()}"
   ]
  },
  {
   "cell_type": "code",
   "execution_count": 13,
   "metadata": {},
   "outputs": [],
   "source": [
    "data = []\n",
    "i, j = 0, 0\n",
    "for key in sorted(set(cn[\"key\"].unique()).union(set(pn[\"key\"].unique()))):\n",
    "    vendor_id, ws_code, batch_num = key.split(\"_\")\n",
    "    product_name = product_mapping.get(int(ws_code), \"\")\n",
    "    \n",
    "    while True:\n",
    "        if i < len(pn[\"key\"]) and j < len(cn[\"key\"]) and pn[\"key\"][i] == key and cn[\"key\"][j] == key:\n",
    "            k = pn[\"quantity\"][i] - cn[\"billed_quantity\"][j]\n",
    "            if k > 0:\n",
    "                data.append({\n",
    "                    \"vendor_id\": vendor_id,\n",
    "                    \"ws_code\": ws_code,\n",
    "                    \"batch_number\": batch_num,\n",
    "                    \"product_name\": product_name,\n",
    "                    \"cn_number\": cn[\"debit_note_number\"][j],\n",
    "                    \"cn_date\": cn[\"vendor_cn_date\"][j],\n",
    "                    \"cn_ref_date\": \"\",\n",
    "                    \"cn_qty\": cn[\"billed_quantity\"][j],\n",
    "                    \"pn_number\": pn[\"pick_note_number\"][i],\n",
    "                    \"pn_date\": pn[\"date\"][i],\n",
    "                    \"pn_qty\": pn[\"quantity\"][i],\n",
    "                    \"finalqty\": k,\n",
    "                    \"Note\": \"CN pending\",\n",
    "                    \"key\": key\n",
    "                })\n",
    "                pn.loc[i, \"quantity\"] = k\n",
    "                j += 1\n",
    "            elif k < 0:\n",
    "                data.append({\n",
    "                    \"vendor_id\": vendor_id,\n",
    "                    \"ws_code\": ws_code,\n",
    "                    \"batch_number\": batch_num,\n",
    "                    \"product_name\": product_name,\n",
    "                    \"cn_number\": cn[\"debit_note_number\"][j],\n",
    "                    \"cn_date\": cn[\"vendor_cn_date\"][j],\n",
    "                    \"cn_ref_date\": \"\",\n",
    "                    \"cn_qty\": cn[\"billed_quantity\"][j],\n",
    "                    \"pn_number\": pn[\"pick_note_number\"][i],\n",
    "                    \"pn_date\": pn[\"date\"][i],\n",
    "                    \"pn_qty\": pn[\"quantity\"][i],\n",
    "                    \"finalqty\": -k,\n",
    "                    \"Note\": \"Excess CN received\",\n",
    "                    \"key\": key\n",
    "                })\n",
    "                cn.loc[j, \"billed_quantity\"] = -k\n",
    "                i += 1\n",
    "            else:\n",
    "                data.append({\n",
    "                    \"vendor_id\": vendor_id,\n",
    "                    \"ws_code\": ws_code,\n",
    "                    \"batch_number\": batch_num,\n",
    "                    \"product_name\": product_name,\n",
    "                    \"cn_number\": cn[\"debit_note_number\"][j],\n",
    "                    \"cn_date\": cn[\"vendor_cn_date\"][j],\n",
    "                    \"cn_ref_date\": \"\",\n",
    "                    \"cn_qty\": cn[\"billed_quantity\"][j],\n",
    "                    \"pn_number\": pn[\"pick_note_number\"][i],\n",
    "                    \"pn_date\": pn[\"date\"][i],\n",
    "                    \"pn_qty\": pn[\"quantity\"][i],\n",
    "                    \"finalqty\": k,\n",
    "                    \"Note\": \"Exact Match\",\n",
    "                    \"key\": key\n",
    "                })\n",
    "                i += 1\n",
    "                j += 1\n",
    "        elif i < len(pn[\"key\"]) and pn[\"key\"][i] == key:\n",
    "            data.append({\n",
    "                \"vendor_id\": vendor_id,\n",
    "                \"ws_code\": ws_code,\n",
    "                \"batch_number\": batch_num,\n",
    "                \"product_name\": product_name,\n",
    "                \"cn_number\": \"\",\n",
    "                \"cn_date\": \"\",\n",
    "                \"cn_ref_date\": \"\",\n",
    "                \"cn_qty\": \"\",\n",
    "                \"pn_number\": pn[\"pick_note_number\"][i],\n",
    "                \"pn_date\": pn[\"date\"][i],\n",
    "                \"pn_qty\": pn[\"quantity\"][i],\n",
    "                \"finalqty\": pn[\"quantity\"][i],\n",
    "                \"Note\": \"CN pending\",\n",
    "                \"key\": key\n",
    "            })\n",
    "            i += 1\n",
    "        elif j < len(cn[\"key\"]) and cn[\"key\"][j] == key:\n",
    "            data.append({\n",
    "                \"vendor_id\": vendor_id,\n",
    "                \"ws_code\": ws_code,\n",
    "                \"batch_number\": batch_num,\n",
    "                \"product_name\": product_name,\n",
    "                \"cn_number\": cn[\"debit_note_number\"][j],\n",
    "                \"cn_date\": cn[\"vendor_cn_date\"][j],\n",
    "                \"cn_ref_date\": \"\",\n",
    "                \"cn_qty\": cn[\"billed_quantity\"][j],\n",
    "                \"pn_number\": \"\",\n",
    "                \"pn_date\": \"\",\n",
    "                \"pn_qty\": \"\",\n",
    "                \"finalqty\": cn[\"billed_quantity\"][j],\n",
    "                \"Note\": \"Excess CN received\",\n",
    "                \"key\": key\n",
    "            })\n",
    "            j += 1\n",
    "        else:\n",
    "            break\n"
   ]
  },
  {
   "cell_type": "code",
   "execution_count": 14,
   "metadata": {},
   "outputs": [],
   "source": [
    "temp_df = pd.DataFrame(data)"
   ]
  },
  {
   "cell_type": "code",
   "execution_count": 15,
   "metadata": {},
   "outputs": [],
   "source": [
    "temp_df.to_csv(\"output.csv\")"
   ]
  },
  {
   "cell_type": "code",
   "execution_count": null,
   "metadata": {},
   "outputs": [],
   "source": []
  }
 ],
 "metadata": {
  "kernelspec": {
   "display_name": "Python 3",
   "language": "python",
   "name": "python3"
  },
  "language_info": {
   "codemirror_mode": {
    "name": "ipython",
    "version": 3
   },
   "file_extension": ".py",
   "mimetype": "text/x-python",
   "name": "python",
   "nbconvert_exporter": "python",
   "pygments_lexer": "ipython3",
   "version": "3.13.1"
  }
 },
 "nbformat": 4,
 "nbformat_minor": 2
}
